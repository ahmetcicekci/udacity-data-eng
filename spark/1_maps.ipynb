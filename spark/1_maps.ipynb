{
 "cells": [
  {
   "cell_type": "code",
   "execution_count": 1,
   "metadata": {},
   "outputs": [],
   "source": [
    "from pyspark.sql import SparkSession"
   ]
  },
  {
   "cell_type": "code",
   "execution_count": 2,
   "metadata": {},
   "outputs": [
    {
     "name": "stderr",
     "output_type": "stream",
     "text": [
      "Setting default log level to \"WARN\".\n",
      "To adjust logging level use sc.setLogLevel(newLevel). For SparkR, use setLogLevel(newLevel).\n",
      "24/08/23 17:11:54 WARN NativeCodeLoader: Unable to load native-hadoop library for your platform... using builtin-java classes where applicable\n"
     ]
    }
   ],
   "source": [
    "# SparkSession is preferred rather than SparkContext\n",
    "spark = SparkSession.builder.appName(\"Maps and Lazy Evaluation Example\").getOrCreate()"
   ]
  },
  {
   "cell_type": "code",
   "execution_count": 3,
   "metadata": {},
   "outputs": [],
   "source": [
    "# Starting off with a regular python list\n",
    "log_of_songs = [\n",
    "        \"Despacito\",\n",
    "        \"Nice for what\",\n",
    "        \"No tears left to cry\",\n",
    "        \"Despacito\",\n",
    "        \"Havana\",\n",
    "        \"In my feelings\",\n",
    "        \"Nice for what\",\n",
    "        \"despacito\",\n",
    "        \"All the stars\"\n",
    "]"
   ]
  },
  {
   "cell_type": "code",
   "execution_count": 4,
   "metadata": {},
   "outputs": [
    {
     "data": {
      "text/plain": [
       "ParallelCollectionRDD[0] at readRDDFromFile at PythonRDD.scala:289"
      ]
     },
     "execution_count": 4,
     "metadata": {},
     "output_type": "execute_result"
    }
   ],
   "source": [
    "# parallelize the log_of_songs to use with Spark\n",
    "distributed_song_log_rdd = spark.sparkContext.parallelize(log_of_songs)\n",
    "distributed_song_log_rdd"
   ]
  },
  {
   "cell_type": "code",
   "execution_count": 5,
   "metadata": {},
   "outputs": [
    {
     "name": "stderr",
     "output_type": "stream",
     "text": [
      "Nice for what                                                     (0 + 12) / 12]\n",
      "In my feelings\n",
      "All the stars\n",
      "Havana\n",
      "No tears left to cry\n",
      "Despacito\n",
      "Despacito\n",
      "despacito\n",
      "Nice for what\n",
      "                                                                                \r"
     ]
    }
   ],
   "source": [
    "# notice we DO NOT use the .collect() method. What is the difference between\n",
    "# .collect() and .foreach() ? \n",
    "# .collect() forces all the data from the entire RDD on all nodes \n",
    "# to be collected from ALL the nodes, which kills productivity, and could crash\n",
    "# .foreach() allows the data to stay on each of the independent nodes\n",
    "\n",
    "# show the original input data is preserved\n",
    "distributed_song_log_rdd.foreach(print)"
   ]
  },
  {
   "cell_type": "code",
   "execution_count": 6,
   "metadata": {},
   "outputs": [
    {
     "data": {
      "text/plain": [
       "PythonRDD[2] at RDD at PythonRDD.scala:53"
      ]
     },
     "execution_count": 6,
     "metadata": {},
     "output_type": "execute_result"
    }
   ],
   "source": [
    "# use the map function to transform the list of songs with the python function that converts strings to lowercase\n",
    "lower_case_songs = distributed_song_log_rdd.map(lambda x: x.lower())\n",
    "lower_case_songs"
   ]
  },
  {
   "cell_type": "code",
   "execution_count": 7,
   "metadata": {},
   "outputs": [
    {
     "name": "stderr",
     "output_type": "stream",
     "text": [
      "in my feelings\n",
      "all the stars\n",
      "despacito\n",
      "havana\n",
      "no tears left to cry\n",
      "nice for what\n",
      "despacito\n",
      "despacito\n",
      "nice for what\n"
     ]
    }
   ],
   "source": [
    "# show the lowercase data\n",
    "lower_case_songs.foreach(print)"
   ]
  },
  {
   "cell_type": "code",
   "execution_count": 8,
   "metadata": {},
   "outputs": [
    {
     "name": "stderr",
     "output_type": "stream",
     "text": [
      "In my feelings\n",
      "Despacito\n",
      "All the stars\n",
      "Despacito\n",
      "No tears left to cry\n",
      "Nice for what\n",
      "despacito\n",
      "Nice for what\n",
      "Havana\n"
     ]
    }
   ],
   "source": [
    "# show the original input data is still mixed case\n",
    "distributed_song_log_rdd.foreach(print)"
   ]
  },
  {
   "cell_type": "code",
   "execution_count": null,
   "metadata": {},
   "outputs": [],
   "source": []
  }
 ],
 "metadata": {
  "kernelspec": {
   "display_name": "Python 3",
   "language": "python",
   "name": "python3"
  },
  "language_info": {
   "codemirror_mode": {
    "name": "ipython",
    "version": 3
   },
   "file_extension": ".py",
   "mimetype": "text/x-python",
   "name": "python",
   "nbconvert_exporter": "python",
   "pygments_lexer": "ipython3",
   "version": "3.12.5"
  }
 },
 "nbformat": 4,
 "nbformat_minor": 2
}
