{
 "cells": [
  {
   "cell_type": "code",
   "execution_count": 31,
   "metadata": {},
   "outputs": [],
   "source": [
    "from pyspark.sql import SparkSession\n",
    "from pyspark.sql.functions import udf\n",
    "from pyspark.sql.types import IntegerType\n",
    "from pyspark.sql import Window\n",
    "from pyspark.sql.functions import desc\n",
    "from pyspark.sql.functions import sum as Fsum\n",
    "\n",
    "import datetime\n",
    "\n",
    "import numpy as np\n",
    "import pandas as pd\n",
    "import matplotlib.pyplot as plt"
   ]
  },
  {
   "cell_type": "code",
   "execution_count": 32,
   "metadata": {},
   "outputs": [],
   "source": [
    "spark = SparkSession.builder.appName(\"Wrangling Data\").getOrCreate()"
   ]
  },
  {
   "cell_type": "code",
   "execution_count": 33,
   "metadata": {},
   "outputs": [],
   "source": [
    "user_log_df = spark.read.json(\"sparkify_log_small.json\")"
   ]
  },
  {
   "cell_type": "code",
   "execution_count": 34,
   "metadata": {},
   "outputs": [
    {
     "name": "stdout",
     "output_type": "stream",
     "text": [
      "root\n",
      " |-- artist: string (nullable = true)\n",
      " |-- auth: string (nullable = true)\n",
      " |-- firstName: string (nullable = true)\n",
      " |-- gender: string (nullable = true)\n",
      " |-- itemInSession: long (nullable = true)\n",
      " |-- lastName: string (nullable = true)\n",
      " |-- length: double (nullable = true)\n",
      " |-- level: string (nullable = true)\n",
      " |-- location: string (nullable = true)\n",
      " |-- method: string (nullable = true)\n",
      " |-- page: string (nullable = true)\n",
      " |-- registration: long (nullable = true)\n",
      " |-- sessionId: long (nullable = true)\n",
      " |-- song: string (nullable = true)\n",
      " |-- status: long (nullable = true)\n",
      " |-- ts: long (nullable = true)\n",
      " |-- userAgent: string (nullable = true)\n",
      " |-- userId: string (nullable = true)\n",
      "\n"
     ]
    }
   ],
   "source": [
    "user_log_df.printSchema()"
   ]
  },
  {
   "cell_type": "code",
   "execution_count": 35,
   "metadata": {},
   "outputs": [
    {
     "name": "stdout",
     "output_type": "stream",
     "text": [
      "+-------+-----------------+----------+---------+------+------------------+--------+-----------------+-----+------------+------+-------+--------------------+------------------+--------+-----------------+-------------------+--------------------+------------------+\n",
      "|summary|           artist|      auth|firstName|gender|     itemInSession|lastName|           length|level|    location|method|   page|        registration|         sessionId|    song|           status|                 ts|           userAgent|            userId|\n",
      "+-------+-----------------+----------+---------+------+------------------+--------+-----------------+-----+------------+------+-------+--------------------+------------------+--------+-----------------+-------------------+--------------------+------------------+\n",
      "|  count|             8347|     10000|     9664|  9664|             10000|    9664|             8347|10000|        9664| 10000|  10000|                9664|             10000|    8347|            10000|              10000|                9664|             10000|\n",
      "|   mean|            461.0|      NULL|     NULL|  NULL|           19.6734|    NULL|249.6486587492506| NULL|        NULL|  NULL|   NULL|1.504695369588739...|         4436.7511|Infinity|         202.8984| 1.5137859954164E12|                NULL|1442.4413286423842|\n",
      "| stddev|            300.0|      NULL|     NULL|  NULL|25.382114916132608|    NULL|95.00437130781461| NULL|        NULL|  NULL|   NULL|  8.47314252131656E9|2043.1281541827561|     NaN|18.04179115450588|3.290828862357974E7|                NULL| 829.8909432082621|\n",
      "|    min|              !!!|     Guest|   Aakash|     F|                 0| Acevedo|          1.12281| free|Aberdeen, WA|   GET|  About|       1463503881284|                 9|      #1|              200|      1513720872284|\"Mozilla/5.0 (Mac...|                  |\n",
      "|    max|ÃÂlafur Arnalds|Logged Out|     Zoie|     M|               163|  Zuniga|        1806.8371| paid|    Yuma, AZ|   PUT|Upgrade|       1513760702284|              7144|wingless|              404|      1513848349284|Mozilla/5.0 (comp...|               999|\n",
      "+-------+-----------------+----------+---------+------+------------------+--------+-----------------+-----+------------+------+-------+--------------------+------------------+--------+-----------------+-------------------+--------------------+------------------+\n",
      "\n"
     ]
    }
   ],
   "source": [
    "user_log_df.describe().show()"
   ]
  },
  {
   "cell_type": "markdown",
   "metadata": {},
   "source": [
    "Describe a specific column"
   ]
  },
  {
   "cell_type": "code",
   "execution_count": 36,
   "metadata": {},
   "outputs": [
    {
     "name": "stdout",
     "output_type": "stream",
     "text": [
      "+-------+-----------------+\n",
      "|summary|           length|\n",
      "+-------+-----------------+\n",
      "|  count|             8347|\n",
      "|   mean|249.6486587492506|\n",
      "| stddev|95.00437130781461|\n",
      "|    min|          1.12281|\n",
      "|    max|        1806.8371|\n",
      "+-------+-----------------+\n",
      "\n"
     ]
    }
   ],
   "source": [
    "user_log_df.describe(\"length\").show()"
   ]
  },
  {
   "cell_type": "markdown",
   "metadata": {},
   "source": [
    "### Different manipulations"
   ]
  },
  {
   "cell_type": "code",
   "execution_count": 37,
   "metadata": {},
   "outputs": [
    {
     "data": {
      "text/plain": [
       "10000"
      ]
     },
     "execution_count": 37,
     "metadata": {},
     "output_type": "execute_result"
    }
   ],
   "source": [
    "user_log_df.count()"
   ]
  },
  {
   "cell_type": "code",
   "execution_count": 38,
   "metadata": {},
   "outputs": [
    {
     "name": "stdout",
     "output_type": "stream",
     "text": [
      "+----------------+\n",
      "|            page|\n",
      "+----------------+\n",
      "|           About|\n",
      "|       Downgrade|\n",
      "|           Error|\n",
      "|            Help|\n",
      "|            Home|\n",
      "|           Login|\n",
      "|          Logout|\n",
      "|        NextSong|\n",
      "|   Save Settings|\n",
      "|        Settings|\n",
      "|Submit Downgrade|\n",
      "|  Submit Upgrade|\n",
      "|         Upgrade|\n",
      "+----------------+\n",
      "\n"
     ]
    }
   ],
   "source": [
    "user_log_df.select(\"page\").dropDuplicates().sort(\"page\").show()"
   ]
  },
  {
   "cell_type": "code",
   "execution_count": 39,
   "metadata": {},
   "outputs": [
    {
     "name": "stdout",
     "output_type": "stream",
     "text": [
      "+------+---------+--------+--------------------+\n",
      "|userId|firstname|    page|                song|\n",
      "+------+---------+--------+--------------------+\n",
      "|  1046|  Kenneth|NextSong|Christmas Tears W...|\n",
      "|  1046|  Kenneth|NextSong|  Be Wary Of A Woman|\n",
      "|  1046|  Kenneth|NextSong|   Public Enemy No.1|\n",
      "|  1046|  Kenneth|NextSong|Reign Of The Tyrants|\n",
      "|  1046|  Kenneth|NextSong|      Father And Son|\n",
      "|  1046|  Kenneth|NextSong|               No. 5|\n",
      "|  1046|  Kenneth|NextSong|           Seventeen|\n",
      "|  1046|  Kenneth|    Home|                NULL|\n",
      "|  1046|  Kenneth|NextSong|          War on war|\n",
      "|  1046|  Kenneth|NextSong|   Killermont Street|\n",
      "|  1046|  Kenneth|NextSong|        Black & Blue|\n",
      "|  1046|  Kenneth|  Logout|                NULL|\n",
      "|  1046|  Kenneth|    Home|                NULL|\n",
      "|  1046|  Kenneth|NextSong|     Heads Will Roll|\n",
      "|  1046|  Kenneth|NextSong|Bleed It Out [Liv...|\n",
      "|  1046|  Kenneth|NextSong|              Clocks|\n",
      "|  1046|  Kenneth|NextSong|           Love Rain|\n",
      "|  1046|  Kenneth|NextSong|Ry Ry's Song (Alb...|\n",
      "|  1046|  Kenneth|NextSong|   The Invisible Man|\n",
      "|  1046|  Kenneth|NextSong|Catch You Baby (S...|\n",
      "+------+---------+--------+--------------------+\n",
      "only showing top 20 rows\n",
      "\n"
     ]
    }
   ],
   "source": [
    "user_log_df.select([\"userId\", \"firstname\", \"page\", \"song\"]).where(user_log_df.userId == \"1046\").show()"
   ]
  },
  {
   "cell_type": "code",
   "execution_count": 40,
   "metadata": {},
   "outputs": [
    {
     "name": "stdout",
     "output_type": "stream",
     "text": [
      "+-------------+---------+---------+------+-------------+--------+---------+-----+--------------------+------+--------+-------------+---------+--------------------+------+-------------+--------------------+------+----+\n",
      "|       artist|     auth|firstName|gender|itemInSession|lastName|   length|level|            location|method|    page| registration|sessionId|                song|status|           ts|           userAgent|userId|hour|\n",
      "+-------------+---------+---------+------+-------------+--------+---------+-----+--------------------+------+--------+-------------+---------+--------------------+------+-------------+--------------------+------+----+\n",
      "|Showaddywaddy|Logged In|  Kenneth|     M|          112|Matthews|232.93342| paid|Charlotte-Concord...|   PUT|NextSong|1509380319284|     5132|Christmas Tears W...|   200|1513720872284|\"Mozilla/5.0 (Win...|  1046|   1|\n",
      "+-------------+---------+---------+------+-------------+--------+---------+-----+--------------------+------+--------+-------------+---------+--------------------+------+-------------+--------------------+------+----+\n",
      "only showing top 1 row\n",
      "\n"
     ]
    }
   ],
   "source": [
    "get_hour = udf(lambda x: datetime.datetime.fromtimestamp(x / 1000.0).hour) # user defined function\n",
    "\n",
    "user_log_df = user_log_df.withColumn(\"hour\", get_hour(user_log_df.ts)) # create a new column \"hour\"\n",
    "user_log_df.show(1)"
   ]
  },
  {
   "cell_type": "code",
   "execution_count": 41,
   "metadata": {},
   "outputs": [
    {
     "name": "stderr",
     "output_type": "stream",
     "text": [
      "[Stage 76:=============================>                            (1 + 1) / 2]\r"
     ]
    },
    {
     "name": "stdout",
     "output_type": "stream",
     "text": [
      "+----+-----+\n",
      "|hour|count|\n",
      "+----+-----+\n",
      "|   0|  248|\n",
      "|   1|  369|\n",
      "|   2|  375|\n",
      "|   3|  456|\n",
      "|   4|  454|\n",
      "|   5|  382|\n",
      "|   6|  302|\n",
      "|   7|  352|\n",
      "|   8|  276|\n",
      "|   9|  348|\n",
      "|  10|  358|\n",
      "|  11|  375|\n",
      "|  12|  249|\n",
      "|  13|  216|\n",
      "|  14|  228|\n",
      "|  15|  251|\n",
      "|  16|  339|\n",
      "|  17|  462|\n",
      "|  18|  479|\n",
      "|  19|  484|\n",
      "+----+-----+\n",
      "only showing top 20 rows\n",
      "\n"
     ]
    },
    {
     "name": "stderr",
     "output_type": "stream",
     "text": [
      "                                                                                \r"
     ]
    }
   ],
   "source": [
    "# \"filter\" is the same with \"where\" \n",
    "songs_in_hour_df = user_log_df.filter(user_log_df.page == \"NextSong\").groupby(user_log_df.hour).count().orderBy(user_log_df.hour.cast(\"float\"))\n",
    "songs_in_hour_df.show()"
   ]
  },
  {
   "cell_type": "code",
   "execution_count": 42,
   "metadata": {},
   "outputs": [
    {
     "name": "stderr",
     "output_type": "stream",
     "text": [
      "                                                                                \r"
     ]
    },
    {
     "data": {
      "image/png": "[encoded data removed]",
      "text/plain": [
       "<Figure size 640x480 with 1 Axes>"
      ]
     },
     "metadata": {},
     "output_type": "display_data"
    }
   ],
   "source": [
    "songs_in_hour_pd = songs_in_hour_df.toPandas() # pandas conversion\n",
    "songs_in_hour_pd.hour = pd.to_numeric(songs_in_hour_pd.hour)\n",
    "\n",
    "plt.scatter(songs_in_hour_pd[\"hour\"], songs_in_hour_pd[\"count\"])\n",
    "plt.xlim(-1, 24)\n",
    "plt.ylim(0, 1.2 * max(songs_in_hour_pd[\"count\"]))\n",
    "plt.xlabel(\"Hour\")\n",
    "plt.ylabel(\"Songs played\")\n",
    "plt.show()"
   ]
  },
  {
   "cell_type": "code",
   "execution_count": 43,
   "metadata": {},
   "outputs": [
    {
     "data": {
      "text/plain": [
       "10000"
      ]
     },
     "execution_count": 43,
     "metadata": {},
     "output_type": "execute_result"
    }
   ],
   "source": [
    "user_log_valid_df = user_log_df.dropna(how = \"any\", subset = [\"userId\", \"sessionId\"])\n",
    "user_log_valid_df.count()"
   ]
  },
  {
   "cell_type": "code",
   "execution_count": 44,
   "metadata": {},
   "outputs": [
    {
     "data": {
      "text/plain": [
       "9664"
      ]
     },
     "execution_count": 44,
     "metadata": {},
     "output_type": "execute_result"
    }
   ],
   "source": [
    "user_log_valid_df = user_log_valid_df.filter(user_log_valid_df[\"userId\"] != \"\")\n",
    "user_log_valid_df.count()"
   ]
  },
  {
   "cell_type": "code",
   "execution_count": 45,
   "metadata": {},
   "outputs": [
    {
     "name": "stdout",
     "output_type": "stream",
     "text": [
      "+------+\n",
      "|userId|\n",
      "+------+\n",
      "|      |\n",
      "|    10|\n",
      "|   100|\n",
      "|  1000|\n",
      "|  1003|\n",
      "|  1005|\n",
      "|  1006|\n",
      "|  1017|\n",
      "|  1019|\n",
      "|  1020|\n",
      "|  1022|\n",
      "|  1025|\n",
      "|  1030|\n",
      "|  1035|\n",
      "|  1037|\n",
      "|   104|\n",
      "|  1040|\n",
      "|  1042|\n",
      "|  1043|\n",
      "|  1046|\n",
      "+------+\n",
      "only showing top 20 rows\n",
      "\n"
     ]
    }
   ],
   "source": [
    "user_log_df.select(\"userId\").dropDuplicates().sort(\"userId\").show()"
   ]
  },
  {
   "cell_type": "code",
   "execution_count": 46,
   "metadata": {},
   "outputs": [
    {
     "name": "stdout",
     "output_type": "stream",
     "text": [
      "+-------------+---------+---------+------+-------------+--------+---------+-----+--------------------+------+--------+-------------+---------+--------------------+------+-------------+--------------------+------+----+----------+\n",
      "|       artist|     auth|firstName|gender|itemInSession|lastName|   length|level|            location|method|    page| registration|sessionId|                song|status|           ts|           userAgent|userId|hour|downgraded|\n",
      "+-------------+---------+---------+------+-------------+--------+---------+-----+--------------------+------+--------+-------------+---------+--------------------+------+-------------+--------------------+------+----+----------+\n",
      "|Showaddywaddy|Logged In|  Kenneth|     M|          112|Matthews|232.93342| paid|Charlotte-Concord...|   PUT|NextSong|1509380319284|     5132|Christmas Tears W...|   200|1513720872284|\"Mozilla/5.0 (Win...|  1046|   1|         0|\n",
      "+-------------+---------+---------+------+-------------+--------+---------+-----+--------------------+------+--------+-------------+---------+--------------------+------+-------------+--------------------+------+----+----------+\n",
      "only showing top 1 row\n",
      "\n"
     ]
    }
   ],
   "source": [
    "flag_downgrade_event = udf(lambda x: 1 if x == \"Submit Downgrade\" else 0, IntegerType())\n",
    "\n",
    "user_log_valid_df = user_log_valid_df.withColumn(\"downgraded\", flag_downgrade_event(\"page\"))\n",
    "user_log_valid_df.show(1)"
   ]
  },
  {
   "cell_type": "code",
   "execution_count": 53,
   "metadata": {},
   "outputs": [
    {
     "name": "stderr",
     "output_type": "stream",
     "text": [
      "[Stage 115:============================>                            (1 + 1) / 2]\r"
     ]
    },
    {
     "name": "stdout",
     "output_type": "stream",
     "text": [
      "+-----------------+---------+---------+------+-------------+--------+---------+-----+--------------------+------+--------+-------------+---------+--------------------+------+-------------+--------------------+------+----+----------+-----+\n",
      "|           artist|     auth|firstName|gender|itemInSession|lastName|   length|level|            location|method|    page| registration|sessionId|                song|status|           ts|           userAgent|userId|hour|downgraded|phase|\n",
      "+-----------------+---------+---------+------+-------------+--------+---------+-----+--------------------+------+--------+-------------+---------+--------------------+------+-------------+--------------------+------+----+----------+-----+\n",
      "|  The Get Up Kids|Logged In| Veronica|     F|            0| Buckley|178.59873| free|Detroit-Warren-De...|   PUT|NextSong|1512966806284|     6676|             Overdue|   200|1513828388284|\"Mozilla/5.0 (Mac...|    10|   6|         0|    0|\n",
      "|      OneRepublic|Logged In| Veronica|     F|            0| Buckley|224.67873| free|Detroit-Warren-De...|   PUT|NextSong|1512966806284|        9|             Secrets|   200|1513790894284|\"Mozilla/5.0 (Mac...|    10|  20|         0|    0|\n",
      "|             NULL|Logged In|   Elijah|     M|            0|   Moore|     NULL| free|New Orleans-Metai...|   GET|    Home|1488073913284|     6316|                NULL|   200|1513839673284|\"Mozilla/5.0 (Win...|   100|  10|         0|    0|\n",
      "|           Ayabie|Logged In|   Elijah|     M|            4|   Moore|244.71465| free|New Orleans-Metai...|   PUT|NextSong|1488073913284|     6040|                0010|   200|1513776308284|\"Mozilla/5.0 (Win...|   100|  16|         0|    0|\n",
      "|             NULL|Logged In|   Elijah|     M|            3|   Moore|     NULL| free|New Orleans-Metai...|   GET|    Home|1488073913284|     6040|                NULL|   200|1513776194284|\"Mozilla/5.0 (Win...|   100|  16|         0|    0|\n",
      "|       Velour 100|Logged In|   Elijah|     M|            2|   Moore|202.29179| free|New Orleans-Metai...|   PUT|NextSong|1488073913284|     6040|Clouds (Of Color ...|   200|1513775710284|\"Mozilla/5.0 (Win...|   100|  16|         0|    0|\n",
      "|    Crystal Gayle|Logged In|   Elijah|     M|            1|   Moore|154.74893| free|New Orleans-Metai...|   PUT|NextSong|1488073913284|     6040|Don't It Make My ...|   200|1513775556284|\"Mozilla/5.0 (Win...|   100|  16|         0|    0|\n",
      "|             NULL|Logged In|   Elijah|     M|            0|   Moore|     NULL| free|New Orleans-Metai...|   GET|    Home|1488073913284|     6040|                NULL|   200|1513775431284|\"Mozilla/5.0 (Win...|   100|  16|         0|    0|\n",
      "|      OneRepublic|Logged In|   Elijah|     M|            1|   Moore|224.67873| free|New Orleans-Metai...|   PUT|NextSong|1488073913284|     5762|             Secrets|   200|1513750442284|\"Mozilla/5.0 (Win...|   100|   9|         0|    0|\n",
      "|       Josh Rouse|Logged In|   Elijah|     M|            0|   Moore|228.93669| free|New Orleans-Metai...|   PUT|NextSong|1488073913284|     5762|                1972|   200|1513750214284|\"Mozilla/5.0 (Win...|   100|   9|         0|    0|\n",
      "|       Lily Allen|Logged In|Elizabeth|     F|            7|   Chase|195.23873| free|Shreveport-Bossie...|   PUT|NextSong|1512718541284|     5027|       Cheryl Tweedy|   200|1513720878284|\"Mozilla/5.0 (Win...|  1000|   1|         0|    0|\n",
      "|             NULL|Logged In|  Kendale|     F|            2|Robinson|     NULL| free|San Diego-Carlsba...|   GET|    Home|1500655861284|     1002|                NULL|   200|1513749525284|\"Mozilla/5.0 (Mac...|  1003|   8|         0|    0|\n",
      "|   Wayne Bergeron|Logged In|  Kendale|     F|            1|Robinson|425.89995| free|San Diego-Carlsba...|   PUT|NextSong|1500655861284|     1002|         The Hipster|   200|1513749516284|\"Mozilla/5.0 (Mac...|  1003|   8|         0|    0|\n",
      "|             NULL|Logged In|  Kendale|     F|            0|Robinson|     NULL| free|San Diego-Carlsba...|   GET|    Home|1500655861284|     1002|                NULL|   200|1513749501284|\"Mozilla/5.0 (Mac...|  1003|   8|         0|    0|\n",
      "|    Blank & Jones|Logged In|     Ryan|     M|            0|Carrillo|245.86404| free|    Bend-Redmond, OR|   PUT|NextSong|1475799838284|     4250|      Nuits Blanches|   200|1513782278284|Mozilla/5.0 (Wind...|  1005|  18|         0|    0|\n",
      "|  Nine Inch Nails|Logged In|    Bryce|     M|            2|   Simon|340.16608| free|New York-Newark-J...|   PUT|NextSong|1512533018284|     1005| Where Is Everybody?|   200|1513774019284|\"Mozilla/5.0 (Mac...|  1006|  15|         0|    0|\n",
      "|Silversun Pickups|Logged In|    Bryce|     M|            1|   Simon|242.12853| free|New York-Newark-J...|   PUT|NextSong|1512533018284|     1005|Well Thought Out ...|   200|1513773777284|\"Mozilla/5.0 (Mac...|  1006|  15|         0|    0|\n",
      "|        The Shins|Logged In|    Bryce|     M|            0|   Simon|229.14567| free|New York-Newark-J...|   PUT|NextSong|1512533018284|     1005|A Comet Appears (...|   200|1513773548284|\"Mozilla/5.0 (Mac...|  1006|  15|         0|    0|\n",
      "|        Sam Cooke|Logged In| Jamarian|     M|            5|   Moore|122.04363| free|San Diego-Carlsba...|   PUT|NextSong|1497924129284|     6987|    Ain't Misbehavin|   200|1513822643284|Mozilla/5.0 (Wind...|  1017|   5|         0|    0|\n",
      "|             NULL|Logged In| Jamarian|     M|            4|   Moore|     NULL| free|San Diego-Carlsba...|   GET|    Home|1497924129284|     6987|                NULL|   200|1513822400284|Mozilla/5.0 (Wind...|  1017|   5|         0|    0|\n",
      "+-----------------+---------+---------+------+-------------+--------+---------+-----+--------------------+------+--------+-------------+---------+--------------------+------+-------------+--------------------+------+----+----------+-----+\n",
      "only showing top 20 rows\n",
      "\n"
     ]
    },
    {
     "name": "stderr",
     "output_type": "stream",
     "text": [
      "                                                                                \r"
     ]
    }
   ],
   "source": [
    "# window is an advanced version of \"pandas groupby + apply\". orderBy causes cumulativity!\n",
    "windowval = Window.partitionBy(\"userId\").orderBy(desc(\"ts\")).rangeBetween(Window.unboundedPreceding, 0) \n",
    "\n",
    "user_log_valid_df = user_log_valid_df.withColumn(\"phase\", Fsum(\"downgraded\").over(windowval))\n",
    "user_log_valid_df.show()"
   ]
  },
  {
   "cell_type": "code",
   "execution_count": 54,
   "metadata": {},
   "outputs": [
    {
     "name": "stdout",
     "output_type": "stream",
     "text": [
      "+------+---------+-------------+----------------+-----+-----+----------+\n",
      "|userId|firstname|           ts|            page|level|phase|downgraded|\n",
      "+------+---------+-------------+----------------+-----+-----+----------+\n",
      "|  1138|    Kelly|1513729066284|            Home| paid|    1|         0|\n",
      "|  1138|    Kelly|1513729066284|        NextSong| paid|    1|         0|\n",
      "|  1138|    Kelly|1513729313284|        NextSong| paid|    1|         0|\n",
      "|  1138|    Kelly|1513729552284|        NextSong| paid|    1|         0|\n",
      "|  1138|    Kelly|1513729783284|        NextSong| paid|    1|         0|\n",
      "|  1138|    Kelly|1513730001284|        NextSong| paid|    1|         0|\n",
      "|  1138|    Kelly|1513730263284|        NextSong| paid|    1|         0|\n",
      "|  1138|    Kelly|1513730518284|        NextSong| paid|    1|         0|\n",
      "|  1138|    Kelly|1513730768284|        NextSong| paid|    1|         0|\n",
      "|  1138|    Kelly|1513731182284|        NextSong| paid|    1|         0|\n",
      "|  1138|    Kelly|1513731435284|        NextSong| paid|    1|         0|\n",
      "|  1138|    Kelly|1513731695284|        NextSong| paid|    1|         0|\n",
      "|  1138|    Kelly|1513731857284|        NextSong| paid|    1|         0|\n",
      "|  1138|    Kelly|1513732160284|        NextSong| paid|    1|         0|\n",
      "|  1138|    Kelly|1513732302284|        NextSong| paid|    1|         0|\n",
      "|  1138|    Kelly|1513732540284|        NextSong| paid|    1|         0|\n",
      "|  1138|    Kelly|1513732770284|        NextSong| paid|    1|         0|\n",
      "|  1138|    Kelly|1513732994284|        NextSong| paid|    1|         0|\n",
      "|  1138|    Kelly|1513733223284|        NextSong| paid|    1|         0|\n",
      "|  1138|    Kelly|1513733456284|        NextSong| paid|    1|         0|\n",
      "|  1138|    Kelly|1513733738284|        NextSong| paid|    1|         0|\n",
      "|  1138|    Kelly|1513733941284|        NextSong| paid|    1|         0|\n",
      "|  1138|    Kelly|1513734289284|        NextSong| paid|    1|         0|\n",
      "|  1138|    Kelly|1513734598284|        NextSong| paid|    1|         0|\n",
      "|  1138|    Kelly|1513734863284|        NextSong| paid|    1|         0|\n",
      "|  1138|    Kelly|1513735174284|        NextSong| paid|    1|         0|\n",
      "|  1138|    Kelly|1513735385284|        NextSong| paid|    1|         0|\n",
      "|  1138|    Kelly|1513736040284|        NextSong| paid|    1|         0|\n",
      "|  1138|    Kelly|1513736237284|        NextSong| paid|    1|         0|\n",
      "|  1138|    Kelly|1513736446284|        NextSong| paid|    1|         0|\n",
      "|  1138|    Kelly|1513736709284|        NextSong| paid|    1|         0|\n",
      "|  1138|    Kelly|1513736915284|        NextSong| paid|    1|         0|\n",
      "|  1138|    Kelly|1513737160284|        NextSong| paid|    1|         0|\n",
      "|  1138|    Kelly|1513737460284|        NextSong| paid|    1|         0|\n",
      "|  1138|    Kelly|1513737728284|        NextSong| paid|    1|         0|\n",
      "|  1138|    Kelly|1513737936284|        NextSong| paid|    1|         0|\n",
      "|  1138|    Kelly|1513738144284|        NextSong| paid|    1|         0|\n",
      "|  1138|    Kelly|1513738197284|            Help| paid|    1|         0|\n",
      "|  1138|    Kelly|1513738432284|        NextSong| paid|    1|         0|\n",
      "|  1138|    Kelly|1513763195284|        NextSong| paid|    1|         0|\n",
      "|  1138|    Kelly|1513763453284|        NextSong| paid|    1|         0|\n",
      "|  1138|    Kelly|1513763622284|        NextSong| paid|    1|         0|\n",
      "|  1138|    Kelly|1513763890284|        NextSong| paid|    1|         0|\n",
      "|  1138|    Kelly|1513764238284|        NextSong| paid|    1|         0|\n",
      "|  1138|    Kelly|1513764462284|        NextSong| paid|    1|         0|\n",
      "|  1138|    Kelly|1513764782284|        NextSong| paid|    1|         0|\n",
      "|  1138|    Kelly|1513765075284|        NextSong| paid|    1|         0|\n",
      "|  1138|    Kelly|1513765075284|            Home| paid|    1|         0|\n",
      "|  1138|    Kelly|1513765448284|        NextSong| paid|    1|         0|\n",
      "|  1138|    Kelly|1513765655284|        NextSong| paid|    1|         0|\n",
      "|  1138|    Kelly|1513765818284|        NextSong| paid|    1|         0|\n",
      "|  1138|    Kelly|1513766091284|        NextSong| paid|    1|         0|\n",
      "|  1138|    Kelly|1513766189284|        NextSong| paid|    1|         0|\n",
      "|  1138|    Kelly|1513766385284|        NextSong| paid|    1|         0|\n",
      "|  1138|    Kelly|1513766599284|        NextSong| paid|    1|         0|\n",
      "|  1138|    Kelly|1513766838284|        NextSong| paid|    1|         0|\n",
      "|  1138|    Kelly|1513767203284|        NextSong| paid|    1|         0|\n",
      "|  1138|    Kelly|1513767413284|        NextSong| paid|    1|         0|\n",
      "|  1138|    Kelly|1513767643284|        NextSong| paid|    1|         0|\n",
      "|  1138|    Kelly|1513768012284|        NextSong| paid|    1|         0|\n",
      "|  1138|    Kelly|1513768242284|        NextSong| paid|    1|         0|\n",
      "|  1138|    Kelly|1513768452284|        NextSong| paid|    1|         0|\n",
      "|  1138|    Kelly|1513768453284|       Downgrade| paid|    1|         0|\n",
      "|  1138|    Kelly|1513768454284|Submit Downgrade| paid|    1|         1|\n",
      "|  1138|    Kelly|1513768456284|            Home| free|    0|         0|\n",
      "|  1138|    Kelly|1513814880284|        NextSong| free|    0|         0|\n",
      "|  1138|    Kelly|1513821430284|            Home| free|    0|         0|\n",
      "|  1138|    Kelly|1513833144284|        NextSong| free|    0|         0|\n",
      "+------+---------+-------------+----------------+-----+-----+----------+\n",
      "\n"
     ]
    }
   ],
   "source": [
    "user_log_valid_df.select([\"userId\", \"firstname\", \"ts\", \"page\", \"level\", \"phase\", \"downgraded\"]).where(user_log_df.userId == \"1138\").sort(\"ts\").show(100)"
   ]
  },
  {
   "cell_type": "code",
   "execution_count": null,
   "metadata": {},
   "outputs": [],
   "source": []
  }
 ],
 "metadata": {
  "kernelspec": {
   "display_name": "env-spark",
   "language": "python",
   "name": "python3"
  },
  "language_info": {
   "codemirror_mode": {
    "name": "ipython",
    "version": 3
   },
   "file_extension": ".py",
   "mimetype": "text/x-python",
   "name": "python",
   "nbconvert_exporter": "python",
   "pygments_lexer": "ipython3",
   "version": "3.12.5"
  }
 },
 "nbformat": 4,
 "nbformat_minor": 2
}
